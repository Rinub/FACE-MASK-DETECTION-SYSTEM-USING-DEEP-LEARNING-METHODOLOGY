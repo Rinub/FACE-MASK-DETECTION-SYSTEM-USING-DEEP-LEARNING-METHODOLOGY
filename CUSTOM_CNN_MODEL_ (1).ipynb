{
  "nbformat": 4,
  "nbformat_minor": 0,
  "metadata": {
    "kernelspec": {
      "language": "python",
      "display_name": "Python 3",
      "name": "python3"
    },
    "language_info": {
      "pygments_lexer": "ipython3",
      "nbconvert_exporter": "python",
      "version": "3.6.4",
      "file_extension": ".py",
      "codemirror_mode": {
        "name": "ipython",
        "version": 3
      },
      "name": "python",
      "mimetype": "text/x-python"
    },
    "colab": {
      "name": "CUSTOM_CNN_MODEL_.ipynb",
      "provenance": [],
      "collapsed_sections": []
    }
  },
  "cells": [
    {
      "cell_type": "markdown",
      "metadata": {
        "id": "gewgE-MZrsLi"
      },
      "source": [
        "PACKAGE FOR MOUNTING THE GOOGLE DRIVE WITH CO-LAB\n"
      ]
    },
    {
      "cell_type": "code",
      "metadata": {
        "colab": {
          "base_uri": "https://localhost:8080/"
        },
        "id": "9EPf1SyHnPUD",
        "outputId": "06741dbf-19f9-4c31-f868-21dba5a25af1"
      },
      "source": [
        "from google.colab import drive\n",
        "drive.mount('/content/drive')"
      ],
      "execution_count": null,
      "outputs": [
        {
          "output_type": "stream",
          "text": [
            "Drive already mounted at /content/drive; to attempt to forcibly remount, call drive.mount(\"/content/drive\", force_remount=True).\n"
          ],
          "name": "stdout"
        }
      ]
    },
    {
      "cell_type": "markdown",
      "metadata": {
        "id": "5q_S9qkOrwP_"
      },
      "source": [
        "IMPORTING ALL THE REQUIRED PACKAGES"
      ]
    },
    {
      "cell_type": "code",
      "metadata": {
        "_uuid": "8f2839f25d086af736a60e9eeb907d3b93b6e0e5",
        "_cell_guid": "b1076dfc-b9ad-4769-8c92-a6c4dae69d19",
        "execution": {
          "iopub.status.busy": "2021-07-22T13:14:03.663455Z",
          "iopub.execute_input": "2021-07-22T13:14:03.664124Z",
          "iopub.status.idle": "2021-07-22T13:14:03.676702Z",
          "shell.execute_reply.started": "2021-07-22T13:14:03.663991Z",
          "shell.execute_reply": "2021-07-22T13:14:03.675386Z"
        },
        "trusted": true,
        "id": "i3uhNOc4nMCY"
      },
      "source": [
        "\n",
        "import numpy as np \n",
        "import pandas as pd \n",
        "import os\n"
      ],
      "execution_count": null,
      "outputs": []
    },
    {
      "cell_type": "code",
      "metadata": {
        "execution": {
          "iopub.status.busy": "2021-07-22T13:14:03.682057Z",
          "iopub.execute_input": "2021-07-22T13:14:03.682428Z",
          "iopub.status.idle": "2021-07-22T13:14:11.257012Z",
          "shell.execute_reply.started": "2021-07-22T13:14:03.682394Z",
          "shell.execute_reply": "2021-07-22T13:14:11.256118Z"
        },
        "trusted": true,
        "id": "ZIEMavBznMCc"
      },
      "source": [
        "import os\n",
        "\n",
        "import pandas as pd\n",
        "import numpy as np\n",
        "import warnings\n",
        "warnings.filterwarnings(action=\"ignore\")\n",
        "import matplotlib.pyplot as plt\n",
        "%matplotlib inline\n",
        "import seaborn as sns\n",
        "from sklearn.preprocessing import StandardScaler \n",
        "from sklearn.model_selection import train_test_split \n",
        "from sklearn.metrics import classification_report\n",
        "#tensorflow libraries\n",
        "import tensorflow as tf\n",
        "from tensorflow import keras\n",
        "from tensorflow.keras.models import Sequential\n",
        "from tensorflow.keras.layers import MaxPooling2D, Dense, Dropout,Flatten, Conv2D\n",
        "from tensorflow.keras.optimizers import Adam\n",
        "from tensorflow.keras.losses import SparseCategoricalCrossentropy\n",
        "from keras.preprocessing.image import ImageDataGenerator\n",
        "from tensorflow.keras.callbacks import TensorBoard,EarlyStopping "
      ],
      "execution_count": null,
      "outputs": []
    },
    {
      "cell_type": "markdown",
      "metadata": {
        "id": "F1jAd26Yr5vK"
      },
      "source": [
        "COLLECTING THE PATH FOR ALL THE IMAGES IN BOTH THE CLASSES\n",
        "IMPORTING THE PATH OF ALL IMAGES IN THE DATAFRAME"
      ]
    },
    {
      "cell_type": "code",
      "metadata": {
        "execution": {
          "iopub.status.busy": "2021-07-22T13:14:11.258559Z",
          "iopub.execute_input": "2021-07-22T13:14:11.259133Z",
          "iopub.status.idle": "2021-07-22T13:14:11.835229Z",
          "shell.execute_reply.started": "2021-07-22T13:14:11.259097Z",
          "shell.execute_reply": "2021-07-22T13:14:11.834427Z"
        },
        "trusted": true,
        "colab": {
          "base_uri": "https://localhost:8080/"
        },
        "id": "puBIxSdynMCe",
        "outputId": "6bcdd8d0-6a59-4d0b-ca29-12fa3c028958"
      },
      "source": [
        "with_mask_dir=r'/content/drive/MyDrive/data_mask/with_mask'\n",
        "without_mask_dir=r'/content/drive/MyDrive/data_mask/without_mask'\n",
        "filepaths = []\n",
        "labels= []\n",
        "dict_list = [with_mask_dir, without_mask_dir]\n",
        "for i, j in enumerate(dict_list):\n",
        "    flist=os.listdir(j)\n",
        "    for f in flist:\n",
        "        fpath=os.path.join(j,f)\n",
        "        filepaths.append(fpath)\n",
        "        if i==0:\n",
        "          labels.append('with_mask')\n",
        "        else:\n",
        "          labels.append('without_mask') \n",
        "    \n",
        "Fseries = pd.Series(filepaths, name=\"filepaths\")\n",
        "Lseries = pd.Series(labels, name=\"labels\")\n",
        "mask_data = pd.concat([Fseries,Lseries], axis=1)\n",
        "mask_df = pd.DataFrame(mask_data)\n",
        "print(mask_df.head())\n",
        "print(mask_df[\"labels\"].value_counts())"
      ],
      "execution_count": null,
      "outputs": [
        {
          "output_type": "stream",
          "text": [
            "                                           filepaths     labels\n",
            "0  /content/drive/MyDrive/data_mask/with_mask/wit...  with_mask\n",
            "1  /content/drive/MyDrive/data_mask/with_mask/wit...  with_mask\n",
            "2  /content/drive/MyDrive/data_mask/with_mask/wit...  with_mask\n",
            "3  /content/drive/MyDrive/data_mask/with_mask/wit...  with_mask\n",
            "4  /content/drive/MyDrive/data_mask/with_mask/wit...  with_mask\n",
            "without_mask    6875\n",
            "with_mask       6728\n",
            "Name: labels, dtype: int64\n"
          ],
          "name": "stdout"
        }
      ]
    },
    {
      "cell_type": "markdown",
      "metadata": {
        "id": "HfgrD70jsB_5"
      },
      "source": [
        "CHECKING THE SHAPE AND SIZE OF THE DATASET"
      ]
    },
    {
      "cell_type": "code",
      "metadata": {
        "execution": {
          "iopub.status.busy": "2021-07-22T13:14:11.836929Z",
          "iopub.execute_input": "2021-07-22T13:14:11.837439Z",
          "iopub.status.idle": "2021-07-22T13:14:11.845164Z",
          "shell.execute_reply.started": "2021-07-22T13:14:11.837405Z",
          "shell.execute_reply": "2021-07-22T13:14:11.844099Z"
        },
        "trusted": true,
        "colab": {
          "base_uri": "https://localhost:8080/"
        },
        "id": "m8xFK7jinMCg",
        "outputId": "f25d5771-92bf-4000-cc86-18301a7bdaa5"
      },
      "source": [
        "\n",
        "mask_df.shape"
      ],
      "execution_count": null,
      "outputs": [
        {
          "output_type": "execute_result",
          "data": {
            "text/plain": [
              "(13603, 2)"
            ]
          },
          "metadata": {},
          "execution_count": 6
        }
      ]
    },
    {
      "cell_type": "markdown",
      "metadata": {
        "id": "KpO6ZbFGsIov"
      },
      "source": [
        "SPLITTING THE DATSET INTO TEST AND TRAIN"
      ]
    },
    {
      "cell_type": "code",
      "metadata": {
        "execution": {
          "iopub.status.busy": "2021-07-22T13:14:11.847425Z",
          "iopub.execute_input": "2021-07-22T13:14:11.847903Z",
          "iopub.status.idle": "2021-07-22T13:14:11.861443Z",
          "shell.execute_reply.started": "2021-07-22T13:14:11.847857Z",
          "shell.execute_reply": "2021-07-22T13:14:11.860668Z"
        },
        "trusted": true,
        "id": "5T430TgcnMCi"
      },
      "source": [
        "train_set, test_images = train_test_split(mask_df, test_size=0.3, random_state=42)\n",
        "test_set, val_set = train_test_split(test_images, test_size=0.2, random_state=42)"
      ],
      "execution_count": null,
      "outputs": []
    },
    {
      "cell_type": "markdown",
      "metadata": {
        "id": "xnONj_U9sOIx"
      },
      "source": [
        "IMAGE PREPROCESSING IS DONE BEFORE FITTING THE DATA SET\n",
        "PRE-PROCESSING THE AUGMENTED DATA AND SPLITTING TRAINING, TESTING AND VALIDATION DATASET \n",
        "PRE-PROCESSING :\n",
        "-->SHUFFLING\n",
        "--> RE-SIZING THE IMAGES\n",
        "--> ASSIGNING THE RATIO OF SPLITTING THE DATASET\n",
        "--> CHANGIG THE COLOUR IMAGES TO GREAY SCALE TO REDUCE THE COMPUTATION\n"
      ]
    },
    {
      "cell_type": "code",
      "metadata": {
        "execution": {
          "iopub.status.busy": "2021-07-22T13:14:11.862762Z",
          "iopub.execute_input": "2021-07-22T13:14:11.863282Z",
          "iopub.status.idle": "2021-07-22T13:14:23.78743Z",
          "shell.execute_reply.started": "2021-07-22T13:14:11.863249Z",
          "shell.execute_reply": "2021-07-22T13:14:23.786427Z"
        },
        "trusted": true,
        "colab": {
          "base_uri": "https://localhost:8080/"
        },
        "id": "MXSb3v_CnMCj",
        "outputId": "79e2c11d-91a1-460f-fc7f-6b98e5447aa6"
      },
      "source": [
        "\n",
        "image_gen = ImageDataGenerator(preprocessing_function= tf.keras.applications.mobilenet_v2.preprocess_input)\n",
        "\n",
        "train = image_gen.flow_from_dataframe(dataframe= train_set,x_col=\"filepaths\",y_col=\"labels\",\n",
        "                                      target_size=(244,244),\n",
        "                                      color_mode='grayscale',\n",
        "                                      class_mode=\"categorical\", \n",
        "                                      batch_size=32,\n",
        "                                      shuffle=False            \n",
        "                                     )\n",
        "\n",
        "test = image_gen.flow_from_dataframe(dataframe= test_set,x_col=\"filepaths\", y_col=\"labels\",\n",
        "                                     target_size=(244,244),\n",
        "                                     color_mode='grayscale',\n",
        "                                     class_mode=\"categorical\",\n",
        "                                     batch_size=32,\n",
        "                                     shuffle= False\n",
        "                                    )\n",
        "\n",
        "val = image_gen.flow_from_dataframe(dataframe= val_set,x_col=\"filepaths\", y_col=\"labels\",\n",
        "                                    target_size=(244,244),\n",
        "                                    color_mode= 'grayscale',\n",
        "                                    class_mode=\"categorical\",\n",
        "                                    batch_size=32,\n",
        "                                    shuffle=False\n",
        "                                   )"
      ],
      "execution_count": null,
      "outputs": [
        {
          "output_type": "stream",
          "text": [
            "Found 9522 validated image filenames belonging to 2 classes.\n",
            "Found 3264 validated image filenames belonging to 2 classes.\n",
            "Found 817 validated image filenames belonging to 2 classes.\n"
          ],
          "name": "stdout"
        }
      ]
    },
    {
      "cell_type": "markdown",
      "metadata": {
        "id": "RlwlqMALsfy5"
      },
      "source": [
        "PRINTING THE CLASSES FOR THE DATASET"
      ]
    },
    {
      "cell_type": "code",
      "metadata": {
        "execution": {
          "iopub.status.busy": "2021-07-22T13:14:23.788699Z",
          "iopub.execute_input": "2021-07-22T13:14:23.789011Z",
          "iopub.status.idle": "2021-07-22T13:14:23.793111Z",
          "shell.execute_reply.started": "2021-07-22T13:14:23.788981Z",
          "shell.execute_reply": "2021-07-22T13:14:23.792256Z"
        },
        "trusted": true,
        "colab": {
          "base_uri": "https://localhost:8080/"
        },
        "id": "vpuiXoGinMCl",
        "outputId": "c2140db8-08ab-4633-ab9a-ebef5014690a"
      },
      "source": [
        "classes=list(train.class_indices.keys())\n",
        "print (classes)"
      ],
      "execution_count": null,
      "outputs": [
        {
          "output_type": "stream",
          "text": [
            "['with_mask', 'without_mask']\n"
          ],
          "name": "stdout"
        }
      ]
    },
    {
      "cell_type": "markdown",
      "metadata": {
        "id": "zuikyWpuslgY"
      },
      "source": [
        "FUNCTION TO PRINT THE IMAGES"
      ]
    },
    {
      "cell_type": "code",
      "metadata": {
        "execution": {
          "iopub.status.busy": "2021-07-22T13:14:23.794217Z",
          "iopub.execute_input": "2021-07-22T13:14:23.794493Z",
          "iopub.status.idle": "2021-07-22T13:14:23.808173Z",
          "shell.execute_reply.started": "2021-07-22T13:14:23.794466Z",
          "shell.execute_reply": "2021-07-22T13:14:23.807221Z"
        },
        "trusted": true,
        "id": "A8r1EAmJnMCn"
      },
      "source": [
        "def show_images(image_gen):\n",
        "    test_dict = test.class_indices\n",
        "    classes = list(test_dict.keys())\n",
        "    images, labels=next(image_gen)  \n",
        "    plt.figure(figsize=(20,20))\n",
        "    length = len(labels)\n",
        "    if length<25:\n",
        "        r=length\n",
        "    else:\n",
        "        r=25\n",
        "    for i in range(r):\n",
        "        plt.subplot(5,5,i+1)\n",
        "        image=(images[i]+1)/2 \n",
        "        plt.imshow(image)\n",
        "        index=np.argmax(labels[i])\n",
        "        class_name=classes[index]\n",
        "        plt.title(class_name, color=\"green\",fontsize=16)\n",
        "        plt.axis('off')\n",
        "    plt.show()"
      ],
      "execution_count": null,
      "outputs": []
    },
    {
      "cell_type": "markdown",
      "metadata": {
        "id": "bTLUMeO0spJR"
      },
      "source": [
        ""
      ]
    },
    {
      "cell_type": "markdown",
      "metadata": {
        "id": "AhPZkixCnMCs"
      },
      "source": [
        "MODEL 1 - CUSTOM CNN"
      ]
    },
    {
      "cell_type": "code",
      "metadata": {
        "execution": {
          "iopub.status.busy": "2021-07-22T13:14:26.272838Z",
          "iopub.execute_input": "2021-07-22T13:14:26.273132Z",
          "iopub.status.idle": "2021-07-22T13:14:26.457373Z",
          "shell.execute_reply.started": "2021-07-22T13:14:26.273103Z",
          "shell.execute_reply": "2021-07-22T13:14:26.456275Z"
        },
        "trusted": true,
        "colab": {
          "base_uri": "https://localhost:8080/"
        },
        "id": "2doaMgnSnMCt",
        "outputId": "c0a68246-875b-46d3-9acd-f3101b5d394b"
      },
      "source": [
        "#BUILDING THE CUSTOM CNN MODEL\n",
        "import keras\n",
        "from tensorflow.keras import layers\n",
        "# INPUT LAYER\n",
        "# HIDDEN LAYER\n",
        "#3 SETS OF CONVOLUTION LAYER AND MAX POOLING LAYER FOR FEATURE EXTRACTION AND REDUCE THE COMPUTATION\n",
        "# OUTPUT LAYER\n",
        "CNN_2 = keras.Sequential([\n",
        "    layers.Conv2D(32, kernel_size=(3,3), activation='relu', padding='same', input_shape=(244,244,1)),\n",
        "    layers.MaxPooling2D(pool_size=(2, 2)),\n",
        "    \n",
        "    layers.Conv2D(64, kernel_size=(3,3), activation='relu'),\n",
        "    layers.MaxPooling2D(pool_size=(2, 2)),\n",
        "    \n",
        "    layers.Conv2D(32, kernel_size=(3,3), activation='relu'),\n",
        "    layers.MaxPooling2D(pool_size=(2, 2)),\n",
        "    layers.Dropout(0.25),\n",
        "    \n",
        "    layers.Flatten(),\n",
        "    layers.Dense(64, activation=\"relu\"),\n",
        "    layers.Dropout(0.5),\n",
        "    layers.Dense(2, activation='softmax')\n",
        "])\n",
        "# MODEL.COMPILE- SYNTAX FOR BACK PROPOGATION AND REDUCING THE LOSS \n",
        "CNN_2.compile(\n",
        "    optimizer='adam',\n",
        "    loss='categorical_crossentropy',\n",
        "    metrics=['accuracy']\n",
        ")\n",
        "\n",
        "# LEARNING RATE FOR THE OPTIMIZER IS ASSIGNED\n",
        "CNN_2.optimizer.lr=0.001\n",
        "# PRINTING THE MODEL SUMARY \n",
        "CNN_2.summary()\n",
        "\n",
        "# FLATTENING LAYER IS USED TO CONVERT THE TWO DIMENSIONAL GRAY SCALE IMAGE TO SINGLE DIMENSION ARRAY\n",
        "# DROP OUT LAYER WITH 50% IS USED TO REDUCE THE CONNECTION OR AVOIDING THE FULLY CONNECTED LAYER TO REDUCE OVER FITTING"
      ],
      "execution_count": null,
      "outputs": [
        {
          "output_type": "stream",
          "text": [
            "Model: \"sequential\"\n",
            "_________________________________________________________________\n",
            "Layer (type)                 Output Shape              Param #   \n",
            "=================================================================\n",
            "conv2d (Conv2D)              (None, 244, 244, 32)      320       \n",
            "_________________________________________________________________\n",
            "max_pooling2d (MaxPooling2D) (None, 122, 122, 32)      0         \n",
            "_________________________________________________________________\n",
            "conv2d_1 (Conv2D)            (None, 120, 120, 64)      18496     \n",
            "_________________________________________________________________\n",
            "max_pooling2d_1 (MaxPooling2 (None, 60, 60, 64)        0         \n",
            "_________________________________________________________________\n",
            "conv2d_2 (Conv2D)            (None, 58, 58, 32)        18464     \n",
            "_________________________________________________________________\n",
            "max_pooling2d_2 (MaxPooling2 (None, 29, 29, 32)        0         \n",
            "_________________________________________________________________\n",
            "dropout (Dropout)            (None, 29, 29, 32)        0         \n",
            "_________________________________________________________________\n",
            "flatten (Flatten)            (None, 26912)             0         \n",
            "_________________________________________________________________\n",
            "dense (Dense)                (None, 64)                1722432   \n",
            "_________________________________________________________________\n",
            "dropout_1 (Dropout)          (None, 64)                0         \n",
            "_________________________________________________________________\n",
            "dense_1 (Dense)              (None, 2)                 130       \n",
            "=================================================================\n",
            "Total params: 1,759,842\n",
            "Trainable params: 1,759,842\n",
            "Non-trainable params: 0\n",
            "_________________________________________________________________\n"
          ],
          "name": "stdout"
        }
      ]
    },
    {
      "cell_type": "code",
      "metadata": {
        "execution": {
          "iopub.status.busy": "2021-07-22T13:14:26.458669Z",
          "iopub.execute_input": "2021-07-22T13:14:26.458981Z"
        },
        "trusted": true,
        "colab": {
          "base_uri": "https://localhost:8080/"
        },
        "id": "vGZWMHTnnMCu",
        "outputId": "1e9408be-4199-4238-98f1-49109c7d09c3"
      },
      "source": [
        "# FITTING THE MODEL WITH TRAIN DATASET AND VALIDATING WITH THE VALIDATION DATASET\n",
        "history=CNN_2.fit(train, validation_data= val, epochs=5,verbose=1)"
      ],
      "execution_count": null,
      "outputs": [
        {
          "output_type": "stream",
          "text": [
            "Epoch 1/5\n",
            "298/298 [==============================] - 784s 3s/step - loss: 0.2801 - accuracy: 0.8800 - val_loss: 0.3026 - val_accuracy: 0.8654\n",
            "Epoch 2/5\n",
            "298/298 [==============================] - 780s 3s/step - loss: 0.2312 - accuracy: 0.9037 - val_loss: 0.3060 - val_accuracy: 0.8666\n",
            "Epoch 3/5\n",
            "298/298 [==============================] - 787s 3s/step - loss: 0.1910 - accuracy: 0.9235 - val_loss: 0.3335 - val_accuracy: 0.8556\n",
            "Epoch 4/5\n",
            "298/298 [==============================] - 789s 3s/step - loss: 0.1507 - accuracy: 0.9416 - val_loss: 0.3302 - val_accuracy: 0.8862\n",
            "Epoch 5/5\n",
            "298/298 [==============================] - 788s 3s/step - loss: 0.1140 - accuracy: 0.9580 - val_loss: 0.4049 - val_accuracy: 0.8752\n"
          ],
          "name": "stdout"
        }
      ]
    },
    {
      "cell_type": "code",
      "metadata": {
        "colab": {
          "base_uri": "https://localhost:8080/",
          "height": 513
        },
        "id": "Uc_-LaOP9sCi",
        "outputId": "397ac882-29de-465b-e633-da6936ec8cdb"
      },
      "source": [
        "# PLOTTING THE LOSS AND ACCURACY FOR EVERY APPROCHES\n",
        "acc = history.history['accuracy']\n",
        "val_acc = history.history['val_accuracy']\n",
        "\n",
        "loss = history.history['loss']\n",
        "val_loss = history.history['val_loss']\n",
        "\n",
        "plt.figure(figsize=(8, 8))\n",
        "plt.subplot(2, 1, 1)\n",
        "plt.plot(acc, label='Training Accuracy')\n",
        "plt.plot(val_acc, label='Validation Accuracy')\n",
        "plt.legend(loc='lower right')\n",
        "plt.ylabel('Accuracy')\n",
        "plt.ylim([min(plt.ylim()),1])\n",
        "plt.title('Training and Validation Accuracy')\n",
        "plt.grid()\n",
        "\n",
        "plt.subplot(2, 1, 2)\n",
        "plt.plot(loss, label='Training Loss')\n",
        "plt.plot(val_loss, label='Validation Loss')\n",
        "plt.legend(loc='upper right')\n",
        "plt.ylabel('Cross Entropy')\n",
        "plt.ylim([0,0.2])\n",
        "plt.title('Training and Validation Loss')\n",
        "plt.xlabel('epoch')\n",
        "plt.grid()\n",
        "plt.show()"
      ],
      "execution_count": null,
      "outputs": [
        {
          "output_type": "display_data",
          "data": {
            "image/png": "[encoded data removed]",
            "text/plain": [
              "<Figure size 576x576 with 2 Axes>"
            ]
          },
          "metadata": {
            "needs_background": "light"
          }
        }
      ]
    },
    {
      "cell_type": "code",
      "metadata": {
        "id": "seFy8Mc09q9G"
      },
      "source": [
        ""
      ],
      "execution_count": null,
      "outputs": []
    }
  ]
}