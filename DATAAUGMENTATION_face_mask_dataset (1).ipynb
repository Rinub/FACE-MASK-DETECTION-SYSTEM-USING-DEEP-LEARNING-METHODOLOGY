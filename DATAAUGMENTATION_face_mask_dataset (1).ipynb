{
  "nbformat": 4,
  "nbformat_minor": 0,
  "metadata": {
    "colab": {
      "name": "DATAAUGMENTATION_face_mask_dataset.ipynb",
      "provenance": [],
      "collapsed_sections": []
    },
    "kernelspec": {
      "name": "python3",
      "display_name": "Python 3"
    },
    "language_info": {
      "name": "python"
    }
  },
  "cells": [
    {
      "cell_type": "markdown",
      "metadata": {
        "id": "4Qn4Z9gETKum"
      },
      "source": [
        "DATA AUGMENTATION FOR DATASET"
      ]
    },
    {
      "cell_type": "markdown",
      "metadata": {
        "id": "Evpm6m2vhIwj"
      },
      "source": [
        "IMPORTING THE PACKAGES\n"
      ]
    },
    {
      "cell_type": "code",
      "metadata": {
        "id": "lvr9AzT5Y6fm"
      },
      "source": [
        "\n",
        "import numpy as np \n",
        "import pandas as pd \n",
        "import os"
      ],
      "execution_count": null,
      "outputs": []
    },
    {
      "cell_type": "markdown",
      "metadata": {
        "id": "Wv7JOmg1hPMt"
      },
      "source": [
        "PACKAGE FOR MOUNTING THE GOOGLE DRIVE WITH CO-LAB\n"
      ]
    },
    {
      "cell_type": "code",
      "metadata": {
        "colab": {
          "base_uri": "https://localhost:8080/"
        },
        "id": "oMVY3NkfYdP8",
        "outputId": "684b5085-deb3-44bd-d4c0-3283606b0f41"
      },
      "source": [
        "from google.colab import drive\n",
        "drive.mount('/content/drive')"
      ],
      "execution_count": null,
      "outputs": [
        {
          "output_type": "stream",
          "text": [
            "Mounted at /content/drive\n"
          ],
          "name": "stdout"
        }
      ]
    },
    {
      "cell_type": "markdown",
      "metadata": {
        "id": "H_jPw_abhbBK"
      },
      "source": [
        "COLLECTING THE PATH FOR ALL THE IMAGES IN BOTH THE CLASSES"
      ]
    },
    {
      "cell_type": "code",
      "metadata": {
        "id": "RmXLlxaNYeYa"
      },
      "source": [
        "path =\"/content/drive/MyDrive/data\"\n",
        "data=[]\n",
        "classes=[]\n",
        "for cls in os.listdir(path):\n",
        "    path_=os.path.join(path,cls)\n",
        "    for i in  os.listdir(path_):\n",
        "        data.extend([os.path.join(path,cls,i)])=\n",
        "        classes.extend([cls])"
      ],
      "execution_count": null,
      "outputs": []
    },
    {
      "cell_type": "markdown",
      "metadata": {
        "id": "oZQ2qzvShiNL"
      },
      "source": [
        "IMPORTING THE PATH OF ALL IMAGES IN THE DATAFRAME"
      ]
    },
    {
      "cell_type": "code",
      "metadata": {
        "colab": {
          "base_uri": "https://localhost:8080/",
          "height": 417
        },
        "id": "BkJJsT1oYec_",
        "outputId": "3d77e65e-8fb4-4efb-ad3e-c265612925b4"
      },
      "source": [
        "Data=pd.DataFrame({\"data\":data,\"classes\":classes})\n",
        "Data[4000:4530]"
      ],
      "execution_count": null,
      "outputs": [
        {
          "output_type": "execute_result",
          "data": {
            "text/html": [
              "<div>\n",
              "<style scoped>\n",
              "    .dataframe tbody tr th:only-of-type {\n",
              "        vertical-align: middle;\n",
              "    }\n",
              "\n",
              "    .dataframe tbody tr th {\n",
              "        vertical-align: top;\n",
              "    }\n",
              "\n",
              "    .dataframe thead th {\n",
              "        text-align: right;\n",
              "    }\n",
              "</style>\n",
              "<table border=\"1\" class=\"dataframe\">\n",
              "  <thead>\n",
              "    <tr style=\"text-align: right;\">\n",
              "      <th></th>\n",
              "      <th>data</th>\n",
              "      <th>classes</th>\n",
              "    </tr>\n",
              "  </thead>\n",
              "  <tbody>\n",
              "    <tr>\n",
              "      <th>4000</th>\n",
              "      <td>/content/drive/MyDrive/data/with_mask/with_mas...</td>\n",
              "      <td>with_mask</td>\n",
              "    </tr>\n",
              "    <tr>\n",
              "      <th>4001</th>\n",
              "      <td>/content/drive/MyDrive/data/with_mask/with_mas...</td>\n",
              "      <td>with_mask</td>\n",
              "    </tr>\n",
              "    <tr>\n",
              "      <th>4002</th>\n",
              "      <td>/content/drive/MyDrive/data/with_mask/with_mas...</td>\n",
              "      <td>with_mask</td>\n",
              "    </tr>\n",
              "    <tr>\n",
              "      <th>4003</th>\n",
              "      <td>/content/drive/MyDrive/data/with_mask/with_mas...</td>\n",
              "      <td>with_mask</td>\n",
              "    </tr>\n",
              "    <tr>\n",
              "      <th>4004</th>\n",
              "      <td>/content/drive/MyDrive/data/with_mask/with_mas...</td>\n",
              "      <td>with_mask</td>\n",
              "    </tr>\n",
              "    <tr>\n",
              "      <th>...</th>\n",
              "      <td>...</td>\n",
              "      <td>...</td>\n",
              "    </tr>\n",
              "    <tr>\n",
              "      <th>4525</th>\n",
              "      <td>/content/drive/MyDrive/data/with_mask/with_mas...</td>\n",
              "      <td>with_mask</td>\n",
              "    </tr>\n",
              "    <tr>\n",
              "      <th>4526</th>\n",
              "      <td>/content/drive/MyDrive/data/with_mask/with_mas...</td>\n",
              "      <td>with_mask</td>\n",
              "    </tr>\n",
              "    <tr>\n",
              "      <th>4527</th>\n",
              "      <td>/content/drive/MyDrive/data/with_mask/with_mas...</td>\n",
              "      <td>with_mask</td>\n",
              "    </tr>\n",
              "    <tr>\n",
              "      <th>4528</th>\n",
              "      <td>/content/drive/MyDrive/data/with_mask/with_mas...</td>\n",
              "      <td>with_mask</td>\n",
              "    </tr>\n",
              "    <tr>\n",
              "      <th>4529</th>\n",
              "      <td>/content/drive/MyDrive/data/with_mask/with_mas...</td>\n",
              "      <td>with_mask</td>\n",
              "    </tr>\n",
              "  </tbody>\n",
              "</table>\n",
              "<p>530 rows × 2 columns</p>\n",
              "</div>"
            ],
            "text/plain": [
              "                                                   data    classes\n",
              "4000  /content/drive/MyDrive/data/with_mask/with_mas...  with_mask\n",
              "4001  /content/drive/MyDrive/data/with_mask/with_mas...  with_mask\n",
              "4002  /content/drive/MyDrive/data/with_mask/with_mas...  with_mask\n",
              "4003  /content/drive/MyDrive/data/with_mask/with_mas...  with_mask\n",
              "4004  /content/drive/MyDrive/data/with_mask/with_mas...  with_mask\n",
              "...                                                 ...        ...\n",
              "4525  /content/drive/MyDrive/data/with_mask/with_mas...  with_mask\n",
              "4526  /content/drive/MyDrive/data/with_mask/with_mas...  with_mask\n",
              "4527  /content/drive/MyDrive/data/with_mask/with_mas...  with_mask\n",
              "4528  /content/drive/MyDrive/data/with_mask/with_mas...  with_mask\n",
              "4529  /content/drive/MyDrive/data/with_mask/with_mas...  with_mask\n",
              "\n",
              "[530 rows x 2 columns]"
            ]
          },
          "metadata": {
            "tags": []
          },
          "execution_count": 6
        }
      ]
    },
    {
      "cell_type": "markdown",
      "metadata": {
        "id": "YGNx_FmVhwD_"
      },
      "source": [
        "IMPORTING THE IMAGEDATAGENERATOR FOR PERFORMING DATA AUGMENTATION"
      ]
    },
    {
      "cell_type": "code",
      "metadata": {
        "id": "p6g4fkgCTO-Y"
      },
      "source": [
        "from keras.preprocessing.image import ImageDataGenerator, array_to_img, img_to_array, load_img"
      ],
      "execution_count": null,
      "outputs": []
    },
    {
      "cell_type": "markdown",
      "metadata": {
        "id": "_RDLvItEh3vW"
      },
      "source": [
        "PERFORMING DATA AUGMENTATION  SUCH AS ROTATIG,SHIFTING, ZOOMING, FLIPPING ETC FOR WITHOUT MASK IMAGES and IT TO NEW FOLDER"
      ]
    },
    {
      "cell_type": "code",
      "metadata": {
        "colab": {
          "base_uri": "https://localhost:8080/"
        },
        "id": "HIVC557lUDmf",
        "outputId": "ab2475d0-262e-4dd0-e767-b3daab4a9b0a"
      },
      "source": [
        "datagen = ImageDataGenerator(\n",
        "    rotation_range=40,\n",
        "    width_shift_range=0.2,\n",
        "    height_shift_range=0.2,\n",
        "    shear_range=0.2,\n",
        "    zoom_range=0.2,\n",
        "    horizontal_flip=True,\n",
        "    fill_mode='nearest'\n",
        "    )\n",
        "for i in range(1,5):\n",
        "  path='/content/drive/MyDrive/data/without_mask/without_mask_'+str(i)+'.jpg'\n",
        "  print('path is ---->'+path)\n",
        "  img = load_img(path)\n",
        "  x=img_to_array(img)\n",
        "  x=x.reshape((1,) + x.shape)\n",
        "\n",
        "  i = 0\n",
        "  for batch in datagen.flow(x, batch_size=1, save_to_dir='/content/drive/MyDrive/data_mask/without_mask', save_prefix='mask', save_format='jpeg'):\n",
        "    i += 1\n",
        "    if i > 2:\n",
        "      break\n",
        "\n",
        "\n"
      ],
      "execution_count": null,
      "outputs": [
        {
          "output_type": "stream",
          "text": [
            "path is ---->/content/drive/MyDrive/data/without_mask/without_mask_1.jpg\n",
            "path is ---->/content/drive/MyDrive/data/without_mask/without_mask_2.jpg\n",
            "path is ---->/content/drive/MyDrive/data/without_mask/without_mask_3.jpg\n",
            "path is ---->/content/drive/MyDrive/data/without_mask/without_mask_4.jpg\n"
          ],
          "name": "stdout"
        }
      ]
    },
    {
      "cell_type": "markdown",
      "metadata": {
        "id": "Kik8M_ETiFoz"
      },
      "source": [
        "PERFORMING DATA AUGMENTATION  SUCH AS ROTATIG,SHIFTING, ZOOMING, FLIPPING ETC FOR WITH MASK IMAGES AND EXPORTING IT TO NEW FOLDER"
      ]
    },
    {
      "cell_type": "code",
      "metadata": {
        "id": "In7GQWLzQaS6"
      },
      "source": [
        "datagen = ImageDataGenerator(\n",
        "    rotation_range=40,\n",
        "    width_shift_range=0.2,\n",
        "    height_shift_range=0.2,\n",
        "    shear_range=0.2,\n",
        "    zoom_range=0.2,\n",
        "    horizontal_flip=True,\n",
        "    fill_mode='nearest'\n",
        "    )\n",
        "for i in range(1,5):\n",
        "  path='/content/drive/MyDrive/data/without_mask/with_mask_'+str(i)+'.jpg'\n",
        "  print('path is ---->'+path)\n",
        "  img = load_img(path)\n",
        "  x=img_to_array(img)\n",
        "  x=x.reshape((1,) + x.shape)\n",
        "\n",
        "  i = 0\n",
        "  for batch in datagen.flow(x, batch_size=1, save_to_dir='/content/drive/MyDrive/data_mask/with_mask', save_prefix='mask', save_format='jpeg'):\n",
        "    i += 1\n",
        "    if i > 2:\n",
        "      break\n",
        "\n",
        "\n"
      ],
      "execution_count": null,
      "outputs": []
    }
  ]
}